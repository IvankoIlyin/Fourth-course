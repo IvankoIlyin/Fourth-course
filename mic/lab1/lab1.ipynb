{
 "cells": [
  {
   "cell_type": "code",
   "execution_count": 1,
   "id": "1f3c8fc3-9f1b-4bc5-aa9b-55bac49d6c50",
   "metadata": {},
   "outputs": [
    {
     "data": {
      "text/html": [
       " \n",
       " <a style=\"color: pink;\" href=\"https://uk.wikipedia.org/wiki/%D0%94%D0%B6%D0%B8%D0%B1%D1%83%D1%82%D1%96\"><h1 style=\"border: 2px solid #333; padding: 5px; border-radius: 5px;\">Джибуті</h1></a>\n",
       "\n",
       "  <img src=\"https://maps.wikimedia.org/img/osm-intl,7,11.80655,42.593975,270x270.png?lang=uk&domain=uk.wikipedia.org&title=%D0%94%D0%B6%D0%B8%D0%B1%D1%83%D1%82%D1%96&revid=40753729&groups=_ba90a9eb936c145ef962156eb647d1bafc327f73\" alt=\"An example image\">\n",
       "\n",
       "\n",
       "<div style=\"border: 2px solid #333; padding: 5px; border-radius: 5px; width:200px;\">\n",
       "<svg xmlns=\"http://www.w3.org/2000/svg\" viewBox=\"0 0 600 400\" width=\"600\" height=\"400\">\n",
       "    <rect width=\"600\" height=\"400\" fill=\"green\" />\n",
       "     <rect width=\"600\" height=\"200\" fill=\"blue\" />\n",
       "    <polygon points=\"0,0 0,400 300,200\" fill=\"white\" />\n",
       "    <polygon points=\"50,155 61,188 98,188 68,210 79,245 50,225 21,245 32,210 2,188 39,188\" fill=\"red\" />\n",
       "</svg>\n",
       "</div>\n",
       "\n",
       "\n",
       "\n",
       "<h2>Загальна інформація</h2>\n",
       "    <p><strong>Площа:</strong> 23,200 км²</p>\n",
       "    <p><strong>Населення:</strong> 988,000 (станом на 2022 рік)</p>\n",
       "    <p><strong>Державний устрій:</strong> Республіка</p> \n",
       "\n",
       "\n",
       "\n",
       "    \n",
       " <h2>Видатні персоналії</h2>\n",
       " <div style=\"border: 2px solid #333; padding: 5px; border-radius: 5px; width:200px;\">\n",
       "<table style=\"margin-left:-3px;\">\n",
       "<tr>\n",
       "            <td>Саддам Хусейн</td>\n",
       "        </tr>\n",
       "        <tr>\n",
       "            <td>Исмаил Омар Гейль</td>\n",
       "        </tr>\n",
       "        <tr>\n",
       "            <td>Хассан Гулейта</td>\n",
       "        </tr>\n",
       "    </table>\n",
       "</div>   \n",
       "\n",
       "    \n",
       "<h2>Пам'ятки культури та природи</h2>\n",
       "<ul>\n",
       "        <li><p><strong>Культурні пам'ятки:</strong> Ісламська Архітектура, Базар Джибуті</p></li>\n",
       "        <li><p><strong>Природні пам'ятки:</strong> Залив Таджура, Озеро Асал</p></li>\n",
       "</ul>\n",
       "\n",
       "\n"
      ],
      "text/plain": [
       "<IPython.core.display.HTML object>"
      ]
     },
     "metadata": {},
     "output_type": "display_data"
    }
   ],
   "source": [
    "%%HTML\n",
    " \n",
    " <a style=\"color: pink;\" href=\"https://uk.wikipedia.org/wiki/%D0%94%D0%B6%D0%B8%D0%B1%D1%83%D1%82%D1%96\"><h1 style=\"border: 2px solid #333; padding: 5px; border-radius: 5px;\">Джибуті</h1></a>\n",
    "\n",
    "  <img src=\"https://maps.wikimedia.org/img/osm-intl,7,11.80655,42.593975,270x270.png?lang=uk&domain=uk.wikipedia.org&title=%D0%94%D0%B6%D0%B8%D0%B1%D1%83%D1%82%D1%96&revid=40753729&groups=_ba90a9eb936c145ef962156eb647d1bafc327f73\" alt=\"An example image\">\n",
    "\n",
    "\n",
    "<div style=\"border: 2px solid #333; padding: 5px; border-radius: 5px; width:200px;\">\n",
    "<svg xmlns=\"http://www.w3.org/2000/svg\" viewBox=\"0 0 600 400\" width=\"600\" height=\"400\">\n",
    "    <rect width=\"600\" height=\"400\" fill=\"green\" />\n",
    "     <rect width=\"600\" height=\"200\" fill=\"blue\" />\n",
    "    <polygon points=\"0,0 0,400 300,200\" fill=\"white\" />\n",
    "    <polygon points=\"50,155 61,188 98,188 68,210 79,245 50,225 21,245 32,210 2,188 39,188\" fill=\"red\" />\n",
    "</svg>\n",
    "</div>\n",
    "\n",
    "\n",
    "\n",
    "<h2>Загальна інформація</h2>\n",
    "    <p><strong>Площа:</strong> 23,200 км²</p>\n",
    "    <p><strong>Населення:</strong> 988,000 (станом на 2022 рік)</p>\n",
    "    <p><strong>Державний устрій:</strong> Республіка</p> \n",
    "\n",
    "\n",
    "\n",
    "    \n",
    " <h2>Видатні персоналії</h2>\n",
    " <div style=\"border: 2px solid #333; padding: 5px; border-radius: 5px; width:200px;\">\n",
    "<table style=\"margin-left:-3px;\">\n",
    "<tr>\n",
    "            <td>Саддам Хусейн</td>\n",
    "        </tr>\n",
    "        <tr>\n",
    "            <td>Исмаил Омар Гейль</td>\n",
    "        </tr>\n",
    "        <tr>\n",
    "            <td>Хассан Гулейта</td>\n",
    "        </tr>\n",
    "    </table>\n",
    "</div>   \n",
    "\n",
    "    \n",
    "<h2>Пам'ятки культури та природи</h2>\n",
    "<ul>\n",
    "        <li><p><strong>Культурні пам'ятки:</strong> Ісламська Архітектура, Базар Джибуті</p></li>\n",
    "        <li><p><strong>Природні пам'ятки:</strong> Залив Таджура, Озеро Асал</p></li>\n",
    "</ul>\n",
    "\n",
    "\n"
   ]
  },
  {
   "cell_type": "code",
   "execution_count": 3,
   "id": "fcc77b95-b74e-4f9f-9be6-6c11d49f5fd4",
   "metadata": {},
   "outputs": [
    {
     "name": "stdin",
     "output_type": "stream",
     "text": [
      "Введіть елементи масиву через пробіл:   9 8 7 6 5 4\n"
     ]
    },
    {
     "name": "stdout",
     "output_type": "stream",
     "text": [
      "Відсортований масив: [4, 5, 6, 7, 8, 9]\n",
      "Кількість перестановок: 15\n"
     ]
    }
   ],
   "source": [
    "def input_array():\n",
    "    try:\n",
    "        input_str = input(\"Введіть елементи масиву через пробіл: \")\n",
    "        input_list = [int(x) for x in input_str.split()]\n",
    "        return input_list\n",
    "    except ValueError:\n",
    "        print(\"Будь ласка, введіть лише числа, розділені пробілами.\")\n",
    "        return input_array()\n",
    "\n",
    "\n",
    "def bubble_sort(arr):\n",
    "    n = len(arr)\n",
    "    swaps = 0\n",
    "\n",
    "    for i in range(n - 1):\n",
    "        for j in range(0, n - i - 1):\n",
    "            if arr[j] > arr[j + 1]:\n",
    "                arr[j], arr[j + 1] = arr[j + 1], arr[j]\n",
    "                swaps += 1\n",
    "\n",
    "    return arr, swaps\n",
    "\n",
    "\n",
    "\n",
    "def start_lab1():\n",
    "    arr=input_array()\n",
    "    sorted_array, swaps = bubble_sort(arr)\n",
    "    print(\"Відсортований масив:\", sorted_array)\n",
    "    print(\"Кількість перестановок:\", swaps)\n",
    "\n",
    "\n",
    "start_lab1()\n",
    "\n"
   ]
  }
 ],
 "metadata": {
  "kernelspec": {
   "display_name": "Python 3 (ipykernel)",
   "language": "python",
   "name": "python3"
  },
  "language_info": {
   "codemirror_mode": {
    "name": "ipython",
    "version": 3
   },
   "file_extension": ".py",
   "mimetype": "text/x-python",
   "name": "python",
   "nbconvert_exporter": "python",
   "pygments_lexer": "ipython3",
   "version": "3.11.3"
  }
 },
 "nbformat": 4,
 "nbformat_minor": 5
}
