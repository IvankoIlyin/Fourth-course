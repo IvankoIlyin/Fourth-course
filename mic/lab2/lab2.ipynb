{
 "cells": [
  {
   "cell_type": "markdown",
   "id": "d327c123-ed30-426b-9a2b-f8a1412365a4",
   "metadata": {},
   "source": [
    "Вправа 2. Вводиться число n. Розставити 1 та 0 у шаховому\r\n",
    "порядку, починаючи з 1 в матриці розміром n×n, використовуючи\r\n",
    "слайсінг."
   ]
  },
  {
   "cell_type": "code",
   "execution_count": 1,
   "id": "78378891-8e81-4844-a0b3-6fbe4101bc83",
   "metadata": {},
   "outputs": [
    {
     "name": "stdout",
     "output_type": "stream",
     "text": [
      "[[0 1 0 1 0 1 0 1 0 1]\n",
      " [1 0 1 0 1 0 1 0 1 0]\n",
      " [0 1 0 1 0 1 0 1 0 1]\n",
      " [1 0 1 0 1 0 1 0 1 0]\n",
      " [0 1 0 1 0 1 0 1 0 1]\n",
      " [1 0 1 0 1 0 1 0 1 0]\n",
      " [0 1 0 1 0 1 0 1 0 1]\n",
      " [1 0 1 0 1 0 1 0 1 0]\n",
      " [0 1 0 1 0 1 0 1 0 1]\n",
      " [1 0 1 0 1 0 1 0 1 0]]\n",
      "CPU times: total: 31.2 ms\n",
      "Wall time: 68.5 ms\n"
     ]
    }
   ],
   "source": [
    "%%time\n",
    "import numpy as np\n",
    "#Task 1.2.1\n",
    "def create_chessboard_matrix(n):\n",
    "    chessboard = np.zeros((n, n), dtype=int)\n",
    "    chessboard[1::2, ::2] = 1\n",
    "    chessboard[::2, 1::2] = 1\n",
    "    return chessboard\n",
    "\n",
    "print(create_chessboard_matrix(10))"
   ]
  },
  {
   "cell_type": "code",
   "execution_count": 2,
   "id": "1bdcab1c-39ec-4725-a744-ef9bbf9792ea",
   "metadata": {},
   "outputs": [
    {
     "name": "stdout",
     "output_type": "stream",
     "text": [
      "[0, 1, 0, 1, 0, 1, 0, 1, 0, 1]\n",
      "[1, 0, 1, 0, 1, 0, 1, 0, 1, 0]\n",
      "[0, 1, 0, 1, 0, 1, 0, 1, 0, 1]\n",
      "[1, 0, 1, 0, 1, 0, 1, 0, 1, 0]\n",
      "[0, 1, 0, 1, 0, 1, 0, 1, 0, 1]\n",
      "[1, 0, 1, 0, 1, 0, 1, 0, 1, 0]\n",
      "[0, 1, 0, 1, 0, 1, 0, 1, 0, 1]\n",
      "[1, 0, 1, 0, 1, 0, 1, 0, 1, 0]\n",
      "[0, 1, 0, 1, 0, 1, 0, 1, 0, 1]\n",
      "[1, 0, 1, 0, 1, 0, 1, 0, 1, 0]\n",
      "CPU times: total: 0 ns\n",
      "Wall time: 0 ns\n"
     ]
    }
   ],
   "source": [
    "%%time\n",
    "#Task 1.2.2\n",
    "def create_chessboard_matrix(n):\n",
    "    chessboard = [[0] * n for _ in range(n)]\n",
    "    for i in range(n):\n",
    "        for j in range(n):\n",
    "            if (i + j) % 2 == 1:\n",
    "                chessboard[i][j] = 1\n",
    "    return chessboard\n",
    "\n",
    "\n",
    "for row in  create_chessboard_matrix(10):\n",
    "    print(row)"
   ]
  },
  {
   "cell_type": "markdown",
   "id": "d76e7d5f-cff6-4a71-86f1-a7976490d01c",
   "metadata": {},
   "source": [
    "Вправа 4. Вводяться числа n і m. Вивести масив розміру n×m, в\r\n",
    "якому у першому рядку (рядок з нулевим індексом) йдуть числа від 0\r\n",
    "до m–1, а всі інші елементи матриці дорівнюють 0."
   ]
  },
  {
   "cell_type": "code",
   "execution_count": 3,
   "id": "f62ef728-ac15-4465-b10a-25498079f8ae",
   "metadata": {},
   "outputs": [
    {
     "name": "stdout",
     "output_type": "stream",
     "text": [
      "Згенерована матриця:\n",
      "[[0 1 2]\n",
      " [0 0 0]\n",
      " [0 0 0]\n",
      " [0 0 0]]\n",
      "CPU times: total: 0 ns\n",
      "Wall time: 0 ns\n"
     ]
    }
   ],
   "source": [
    "%%time\n",
    "#Task 1.4.1\n",
    "import numpy as np\n",
    "\n",
    "def generate_matrix_numpy():\n",
    "\n",
    "    #m, n = map(int, input(\"Введіть m та n через пробіл: \").split())\n",
    "    m=3\n",
    "    n=4\n",
    "    matrix = np.zeros((n, m), dtype=int)\n",
    "\n",
    "    matrix[0, :] = np.arange(m)\n",
    "\n",
    "    print(\"Згенерована матриця:\")\n",
    "    print(matrix)\n",
    "\n",
    "generate_matrix_numpy()"
   ]
  },
  {
   "cell_type": "code",
   "execution_count": 4,
   "id": "a718ff89-4d6b-45fc-908b-707adfee198a",
   "metadata": {},
   "outputs": [
    {
     "name": "stdout",
     "output_type": "stream",
     "text": [
      "Згенерована матриця:\n",
      "[0, 1, 2]\n",
      "[0, 0, 0]\n",
      "[0, 0, 0]\n",
      "[0, 0, 0]\n",
      "CPU times: total: 0 ns\n",
      "Wall time: 0 ns\n"
     ]
    }
   ],
   "source": [
    "%%time\n",
    "#Task 1.4.2\n",
    "\n",
    "def generate_matrix_iterator():\n",
    "\n",
    "    #m, n = map(int, input(\"Введіть m та n через пробіл: \").split())\n",
    "    m=3\n",
    "    n=4\n",
    "    matrix = []\n",
    "\n",
    "    matrix.append(list(range(m)))\n",
    "\n",
    "    for _ in range(1, n):\n",
    "        matrix.append([0] * m)\n",
    "\n",
    "    print(\"Згенерована матриця:\")\n",
    "    for row in matrix:\n",
    "        print(row)\n",
    "\n",
    "generate_matrix_iterator()"
   ]
  },
  {
   "cell_type": "markdown",
   "id": "f8a36011-d762-411e-8327-3a8810da4fc0",
   "metadata": {},
   "source": [
    "Вправа 5. Вводиться число n. Вивести масив розміру n×n, в\r\n",
    "якому в рядках з парними індексами стоять 1, а в інших – 0."
   ]
  },
  {
   "cell_type": "code",
   "execution_count": 20,
   "id": "32611ea4-b457-46e9-a9f0-6eea9c41cc3a",
   "metadata": {},
   "outputs": [
    {
     "name": "stdout",
     "output_type": "stream",
     "text": [
      "[[1 1 1 1 1 1 1 1 1 1]\n",
      " [0 0 0 0 0 0 0 0 0 0]\n",
      " [1 1 1 1 1 1 1 1 1 1]\n",
      " [0 0 0 0 0 0 0 0 0 0]\n",
      " [1 1 1 1 1 1 1 1 1 1]\n",
      " [0 0 0 0 0 0 0 0 0 0]\n",
      " [1 1 1 1 1 1 1 1 1 1]\n",
      " [0 0 0 0 0 0 0 0 0 0]\n",
      " [1 1 1 1 1 1 1 1 1 1]\n",
      " [0 0 0 0 0 0 0 0 0 0]]\n",
      "CPU times: total: 0 ns\n",
      "Wall time: 0 ns\n"
     ]
    }
   ],
   "source": [
    "%%time\n",
    "import numpy as np\n",
    "#Task 1.5.1\n",
    "def create_array_with_ones(n):\n",
    "    array = np.zeros((n, n), dtype=int)\n",
    "    array[::2, :] = 1\n",
    "    return array\n",
    "\n",
    "print(create_array_with_ones(10))"
   ]
  },
  {
   "cell_type": "code",
   "execution_count": 24,
   "id": "7c77ab84-37db-4d9a-bad0-b8f8c8fd2a2c",
   "metadata": {},
   "outputs": [
    {
     "name": "stdout",
     "output_type": "stream",
     "text": [
      "[1, 1, 1, 1, 1, 1, 1, 1, 1, 1]\n",
      "[0, 0, 0, 0, 0, 0, 0, 0, 0, 0]\n",
      "[1, 1, 1, 1, 1, 1, 1, 1, 1, 1]\n",
      "[0, 0, 0, 0, 0, 0, 0, 0, 0, 0]\n",
      "[1, 1, 1, 1, 1, 1, 1, 1, 1, 1]\n",
      "[0, 0, 0, 0, 0, 0, 0, 0, 0, 0]\n",
      "[1, 1, 1, 1, 1, 1, 1, 1, 1, 1]\n",
      "[0, 0, 0, 0, 0, 0, 0, 0, 0, 0]\n",
      "[1, 1, 1, 1, 1, 1, 1, 1, 1, 1]\n",
      "[0, 0, 0, 0, 0, 0, 0, 0, 0, 0]\n",
      "CPU times: total: 0 ns\n",
      "Wall time: 0 ns\n"
     ]
    }
   ],
   "source": [
    "%%time\n",
    "#Task 1.5.2\n",
    "def create_array_with_ones(n):\n",
    "    matrix = [[0] * n for _ in range(n)]\n",
    "\n",
    "    for i in range(n):\n",
    "        for j in range(n):\n",
    "            if i % 2 == 0:\n",
    "                matrix[i][j] = 1\n",
    "\n",
    "    return matrix\n",
    "\n",
    "for row in create_array_with_ones(10):\n",
    "    print(row)"
   ]
  },
  {
   "cell_type": "markdown",
   "id": "e73ca8ff-7787-457b-a97e-7293d5a81b17",
   "metadata": {},
   "source": [
    "Вправа 8. З клавіатури вводиться масив. Підрахувати в ньому\r\n",
    "кількість нульових та ненульових елементів."
   ]
  },
  {
   "cell_type": "code",
   "execution_count": 8,
   "id": "57186032-d6df-4deb-b216-6d28f490e01f",
   "metadata": {},
   "outputs": [
    {
     "name": "stdin",
     "output_type": "stream",
     "text": [
      "Введіть масив елементів через пробіл:  2 2 2 0\n"
     ]
    },
    {
     "name": "stdout",
     "output_type": "stream",
     "text": [
      "Кількість нульових елементів: 1\n",
      "Кількість ненульових елементів: 3\n",
      "CPU times: total: 0 ns\n",
      "Wall time: 2.85 s\n"
     ]
    }
   ],
   "source": [
    "%%time\n",
    "import numpy as np\n",
    "#Task 1.8.1\n",
    "def count_zeros_nonzeros(array):\n",
    "    zeros_count = np.count_nonzero(array == 0)\n",
    "    nonzeros_count = np.count_nonzero(array != 0)\n",
    "    return zeros_count, nonzeros_count\n",
    "\n",
    "try:\n",
    "    input_array = np.array(list(map(int, input(\"Введіть масив елементів через пробіл: \").split())))\n",
    "\n",
    "    zeros, nonzeros = count_zeros_nonzeros(input_array)\n",
    "\n",
    "    print(f\"Кількість нульових елементів: {zeros}\")\n",
    "    print(f\"Кількість ненульових елементів: {nonzeros}\")\n",
    "\n",
    "except ValueError:\n",
    "    print(\"Некоректний ввід. Будь ласка, введіть числа через пробіл.\")"
   ]
  },
  {
   "cell_type": "code",
   "execution_count": 9,
   "id": "334e24b3-7b51-4f2d-b602-1477f8c7aff5",
   "metadata": {},
   "outputs": [
    {
     "name": "stdin",
     "output_type": "stream",
     "text": [
      "Введіть масив елементів через пробіл:  2 2 2 0\n"
     ]
    },
    {
     "name": "stdout",
     "output_type": "stream",
     "text": [
      "Кількість нульових елементів: 1\n",
      "Кількість ненульових елементів: 3\n",
      "CPU times: total: 15.6 ms\n",
      "Wall time: 2.73 s\n"
     ]
    }
   ],
   "source": [
    "%%time\n",
    "#Task 1.8.2\n",
    "def count_zeros_nonzeros(array):\n",
    "    zeros_count = sum(1 for element in array if element == 0)\n",
    "    nonzeros_count = sum(1 for element in array if element != 0)\n",
    "    return zeros_count, nonzeros_count\n",
    "\n",
    "try:\n",
    "    input_array = list(map(int, input(\"Введіть масив елементів через пробіл: \").split()))\n",
    "\n",
    "    zeros, nonzeros = count_zeros_nonzeros(input_array)\n",
    "\n",
    "    print(f\"Кількість нульових елементів: {zeros}\")\n",
    "    print(f\"Кількість ненульових елементів: {nonzeros}\")\n",
    "\n",
    "except ValueError:\n",
    "    print(\"Некоректний ввід. Будь ласка, введіть числа через пробіл.\")"
   ]
  },
  {
   "cell_type": "markdown",
   "id": "8eafc890-8049-4c4c-b621-ebe7de15108b",
   "metadata": {},
   "source": [
    "Вправа 9. Вводиться число n. Створити масив значень від n до 0."
   ]
  },
  {
   "cell_type": "code",
   "execution_count": 10,
   "id": "b23ec915-c76f-4607-9453-4f3d0b079c9f",
   "metadata": {},
   "outputs": [
    {
     "name": "stdout",
     "output_type": "stream",
     "text": [
      "[10  9  8  7  6  5  4  3  2  1  0]\n",
      "CPU times: total: 0 ns\n",
      "Wall time: 0 ns\n"
     ]
    }
   ],
   "source": [
    "%%time\n",
    "import numpy as np\n",
    "#Task 1.9.1\n",
    "def create_array_from_n_to_zero(n):\n",
    "    return np.arange(n, -1, -1)\n",
    "\n",
    "print(create_array_from_n_to_zero(10))"
   ]
  },
  {
   "cell_type": "code",
   "execution_count": 11,
   "id": "c2b41452-5b3d-4ff7-b6e4-3d9d032fa711",
   "metadata": {},
   "outputs": [
    {
     "name": "stdout",
     "output_type": "stream",
     "text": [
      "[10, 9, 8, 7, 6, 5, 4, 3, 2, 1, 0]\n",
      "CPU times: total: 0 ns\n",
      "Wall time: 0 ns\n"
     ]
    }
   ],
   "source": [
    "%%time\n",
    "#Task 1.9.2\n",
    "def create_array_from_n_to_zero_iterative(n):\n",
    "    result_array = []\n",
    "    for i in range(n, -1, -1):\n",
    "        result_array.append(i)\n",
    "    return result_array\n",
    "\n",
    "\n",
    "print(create_array_from_n_to_zero_iterative(10))"
   ]
  },
  {
   "cell_type": "markdown",
   "id": "e9072088-e3d9-4d75-8976-59588b6ad477",
   "metadata": {},
   "source": [
    "Вправа 12. Створити масив одиниць розміром n×n та створити в\r\n",
    "ньому «рамку», що утворюється з 0."
   ]
  },
  {
   "cell_type": "code",
   "execution_count": 12,
   "id": "0810c421-6286-4c37-a0c1-eb9717e5e98b",
   "metadata": {},
   "outputs": [
    {
     "name": "stdout",
     "output_type": "stream",
     "text": [
      "[[0 0 0 0 0 0 0 0 0 0]\n",
      " [0 1 1 1 1 1 1 1 1 0]\n",
      " [0 1 1 1 1 1 1 1 1 0]\n",
      " [0 1 1 1 1 1 1 1 1 0]\n",
      " [0 1 1 1 1 1 1 1 1 0]\n",
      " [0 1 1 1 1 1 1 1 1 0]\n",
      " [0 1 1 1 1 1 1 1 1 0]\n",
      " [0 1 1 1 1 1 1 1 1 0]\n",
      " [0 1 1 1 1 1 1 1 1 0]\n",
      " [0 0 0 0 0 0 0 0 0 0]]\n",
      "CPU times: total: 0 ns\n",
      "Wall time: 0 ns\n"
     ]
    }
   ],
   "source": [
    "%%time\n",
    "import numpy as np\n",
    "#Task 1.12.1\n",
    "def create_array_with_frame(n):\n",
    "    array = np.zeros((n, n), dtype=int)\n",
    "\n",
    "    array[1:-1, 1:-1] = 1\n",
    "    return array\n",
    "\n",
    "print(create_array_with_frame(10))"
   ]
  },
  {
   "cell_type": "code",
   "execution_count": 13,
   "id": "5463ab0d-e0ed-41b0-99c5-3202c39eefaa",
   "metadata": {},
   "outputs": [
    {
     "name": "stdout",
     "output_type": "stream",
     "text": [
      "[0, 0, 0, 0, 0, 0, 0, 0, 0, 0]\n",
      "[0, 1, 1, 1, 1, 1, 1, 1, 1, 0]\n",
      "[0, 1, 1, 1, 1, 1, 1, 1, 1, 0]\n",
      "[0, 1, 1, 1, 1, 1, 1, 1, 1, 0]\n",
      "[0, 1, 1, 1, 1, 1, 1, 1, 1, 0]\n",
      "[0, 1, 1, 1, 1, 1, 1, 1, 1, 0]\n",
      "[0, 1, 1, 1, 1, 1, 1, 1, 1, 0]\n",
      "[0, 1, 1, 1, 1, 1, 1, 1, 1, 0]\n",
      "[0, 1, 1, 1, 1, 1, 1, 1, 1, 0]\n",
      "[0, 0, 0, 0, 0, 0, 0, 0, 0, 0]\n",
      "CPU times: total: 0 ns\n",
      "Wall time: 0 ns\n"
     ]
    }
   ],
   "source": [
    "%%time\n",
    "#Task 1.12.2\n",
    "def create_array_with_frame_iterative(n):\n",
    "    array = [[0] * n for _ in range(n)]\n",
    "\n",
    "    for i in range(1, n - 1):\n",
    "        for j in range(1, n - 1):\n",
    "            array[i][j] = 1\n",
    "\n",
    "    return array\n",
    "\n",
    "for row in create_array_with_frame_iterative(10):\n",
    "     print(row)"
   ]
  },
  {
   "cell_type": "markdown",
   "id": "5dd01a3d-a32d-4ba4-9cc4-ac53959ff81f",
   "metadata": {},
   "source": [
    "Вправа 13. Розмістити на полі 8×8 нулі та одиниці в шахматному\r\n",
    "порядку, використовуючи функцію повторення (*)."
   ]
  },
  {
   "cell_type": "code",
   "execution_count": 14,
   "id": "17652c5c-3672-4256-a37c-a9b247c9e60b",
   "metadata": {},
   "outputs": [
    {
     "name": "stdout",
     "output_type": "stream",
     "text": [
      "[[0 1 0 1 0 1 0 1]\n",
      " [1 0 1 0 1 0 1 0]\n",
      " [0 1 0 1 0 1 0 1]\n",
      " [1 0 1 0 1 0 1 0]\n",
      " [0 1 0 1 0 1 0 1]\n",
      " [1 0 1 0 1 0 1 0]\n",
      " [0 1 0 1 0 1 0 1]\n",
      " [1 0 1 0 1 0 1 0]]\n",
      "CPU times: total: 0 ns\n",
      "Wall time: 0 ns\n"
     ]
    }
   ],
   "source": [
    "%%time\n",
    "import numpy as np\n",
    "#Task 1.13.1\n",
    "def create_chessboard_array(size):\n",
    "    chessboard = np.tile([[0, 1], [1, 0]], (size // 2, size // 2))\n",
    "    return chessboard[:size, :size]\n",
    "\n",
    "print(create_chessboard_array(8))"
   ]
  },
  {
   "cell_type": "code",
   "execution_count": 15,
   "id": "fd61c638-051d-4b0e-a62c-cd772582dec3",
   "metadata": {},
   "outputs": [
    {
     "name": "stdout",
     "output_type": "stream",
     "text": [
      "[0, 1, 0, 1, 0, 1, 0, 1]\n",
      "[1, 0, 1, 0, 1, 0, 1, 0]\n",
      "[0, 1, 0, 1, 0, 1, 0, 1]\n",
      "[1, 0, 1, 0, 1, 0, 1, 0]\n",
      "[0, 1, 0, 1, 0, 1, 0, 1]\n",
      "[1, 0, 1, 0, 1, 0, 1, 0]\n",
      "[0, 1, 0, 1, 0, 1, 0, 1]\n",
      "[1, 0, 1, 0, 1, 0, 1, 0]\n",
      "CPU times: total: 15.6 ms\n",
      "Wall time: 1 ms\n"
     ]
    }
   ],
   "source": [
    "%%time\n",
    "#Task 1.13.2\n",
    "def create_chessboard_array_iterative(size):\n",
    "    chessboard = []\n",
    "    for i in range(size):\n",
    "        row = []\n",
    "        for j in range(size):\n",
    "            value = 0 if (i + j) % 2 == 0 else 1\n",
    "            row.append(value)\n",
    "        chessboard.append(row)\n",
    "    return chessboard\n",
    "\n",
    "\n",
    "for row in create_chessboard_array_iterative(8):\n",
    "      print(row)"
   ]
  },
  {
   "cell_type": "markdown",
   "id": "2e983a71-7079-4f3a-b4eb-5f4e9c89242b",
   "metadata": {},
   "source": [
    "Вправа 15. Заповнити парні стовпчикі матриці розміром n×n\r\n",
    "одиницями, а непарні – нулями."
   ]
  },
  {
   "cell_type": "code",
   "execution_count": 19,
   "id": "f3231968-fb56-44cc-b898-f6c6e39c25db",
   "metadata": {},
   "outputs": [
    {
     "name": "stdout",
     "output_type": "stream",
     "text": [
      "[[1 0 1 0 1 0 1 0 1 0]\n",
      " [1 0 1 0 1 0 1 0 1 0]\n",
      " [1 0 1 0 1 0 1 0 1 0]\n",
      " [1 0 1 0 1 0 1 0 1 0]\n",
      " [1 0 1 0 1 0 1 0 1 0]\n",
      " [1 0 1 0 1 0 1 0 1 0]\n",
      " [1 0 1 0 1 0 1 0 1 0]\n",
      " [1 0 1 0 1 0 1 0 1 0]\n",
      " [1 0 1 0 1 0 1 0 1 0]\n",
      " [1 0 1 0 1 0 1 0 1 0]]\n",
      "CPU times: total: 0 ns\n",
      "Wall time: 0 ns\n"
     ]
    }
   ],
   "source": [
    "%%time\n",
    "import numpy as np\n",
    "#Task 1.15.1\n",
    "def fill_matrix(n):\n",
    "    matrix = np.zeros((n, n), dtype=int)\n",
    "    matrix[:, 0::2] = 1  \n",
    "    return matrix\n",
    "\n",
    "\n",
    "print(fill_matrix(10))"
   ]
  },
  {
   "cell_type": "code",
   "execution_count": 18,
   "id": "773bb0de-ef0f-4c6f-ae64-2be66af97805",
   "metadata": {},
   "outputs": [
    {
     "name": "stdout",
     "output_type": "stream",
     "text": [
      "[1, 0, 1, 0, 1, 0, 1, 0, 1, 0]\n",
      "[1, 0, 1, 0, 1, 0, 1, 0, 1, 0]\n",
      "[1, 0, 1, 0, 1, 0, 1, 0, 1, 0]\n",
      "[1, 0, 1, 0, 1, 0, 1, 0, 1, 0]\n",
      "[1, 0, 1, 0, 1, 0, 1, 0, 1, 0]\n",
      "[1, 0, 1, 0, 1, 0, 1, 0, 1, 0]\n",
      "[1, 0, 1, 0, 1, 0, 1, 0, 1, 0]\n",
      "[1, 0, 1, 0, 1, 0, 1, 0, 1, 0]\n",
      "[1, 0, 1, 0, 1, 0, 1, 0, 1, 0]\n",
      "[1, 0, 1, 0, 1, 0, 1, 0, 1, 0]\n",
      "CPU times: total: 0 ns\n",
      "Wall time: 0 ns\n"
     ]
    }
   ],
   "source": [
    "%%time\n",
    "#Task 1.15.2\n",
    "def fill_matrix_iterative(n):\n",
    "    matrix = [[0] * n for _ in range(n)]\n",
    "\n",
    "    for i in range(n):\n",
    "        for j in range(n):\n",
    "            if j % 2 == 0:\n",
    "                matrix[i][j] = 1\n",
    "\n",
    "    return matrix\n",
    "\n",
    "\n",
    "for row in fill_matrix_iterative(10):\n",
    "      print(row)"
   ]
  },
  {
   "cell_type": "markdown",
   "id": "0b071bd2-a0df-4ecf-9b67-00558e848146",
   "metadata": {},
   "source": [
    "2. Розв’язати систему алгебраїчних рівнянь за допомогою\r\n",
    "формул Крамера і виконати перевірку за допомогою:\r\n",
    "a) матричного множення;\r\n",
    "b) оберненої матриці;\r\n",
    "c) функції numpy.lin.alg.sol\n",
    "e()."
   ]
  },
  {
   "cell_type": "markdown",
   "id": "b6648c32-faa7-4757-98c3-d0cc4fc6c117",
   "metadata": {},
   "source": [
    "\\begin{cases}\n",
    "x_2 - 3x_3 + 4x_4 &= -5 \\\\\n",
    "x_1 - 2x_3 + 3x_4 &= -4 \\\\\n",
    "3x_1 + 2x_2 - 5x_4 &= 12 \\\\\n",
    "4x_1 + 3x_2 - 5x_3 &= 5 \\\\\n",
    "\\end{cases}"
   ]
  },
  {
   "cell_type": "code",
   "execution_count": 25,
   "id": "ec2190e9-25ca-4706-bf9a-0d74b48a56b0",
   "metadata": {},
   "outputs": [
    {
     "name": "stdout",
     "output_type": "stream",
     "text": [
      "Розв'язок системи:\n",
      "[ 1.  2.  1. -1.]\n",
      "Перевірка розв'язку:\n",
      "Матриця A * Розв'язок:\n",
      "[-5. -4. 12.  5.]\n",
      "Вектор B:\n",
      "[-5. -4. 12.  5.]\n",
      "Перевірка розв'язку за допомогою оберненої матриці:\n",
      "Обернена матриця A:\n",
      "[[ 0.          0.83333333  0.5        -0.33333333]\n",
      " [ 1.25        0.          1.         -0.75      ]\n",
      " [ 0.75        0.66666667  1.         -0.91666667]\n",
      " [ 0.5         0.5         0.5        -0.5       ]]\n",
      "Обернена матриця A * Вектор B:\n",
      "[ 1.  2.  1. -1.]\n",
      "Перевірка розв'язку за допомогою numpy.linalg.solve():\n",
      "Розв'язок за допомогою solve():\n",
      "[ 1.  2.  1. -1.]\n"
     ]
    }
   ],
   "source": [
    "# Task 2\n",
    "import numpy as np\n",
    "def solve_system(matrix_A, vector_B):\n",
    "    det_A = np.linalg.det(matrix_A)\n",
    "\n",
    "    solution = []\n",
    "\n",
    "    for i in range(len(vector_B)):\n",
    "        temp_matrix = np.copy(matrix_A)\n",
    "\n",
    "        temp_matrix[:, i] = vector_B.copy()\n",
    "\n",
    "        det_temp = np.linalg.det(temp_matrix)\n",
    "\n",
    "        solution.append(det_temp / det_A)\n",
    "\n",
    "    return np.array(solution)\n",
    "\n",
    "\n",
    "def check_solution(matrix_A, vector_B, solution):\n",
    "    result = np.dot(matrix_A, solution)\n",
    "\n",
    "    print(\"Перевірка розв'язку:\")\n",
    "    print(\"Матриця A * Розв'язок:\")\n",
    "    print(result)\n",
    "    print(\"Вектор B:\")\n",
    "    print(vector_B)\n",
    "\n",
    "\n",
    "def check_solution_inverse(matrix_A, vector_B, solution):\n",
    "    inverse_A = np.linalg.inv(matrix_A)\n",
    "    result_inverse = np.dot(inverse_A, vector_B)\n",
    "\n",
    "    print(\"Перевірка розв'язку за допомогою оберненої матриці:\")\n",
    "    print(\"Обернена матриця A:\")\n",
    "    print(inverse_A)\n",
    "    print(\"Обернена матриця A * Вектор B:\")\n",
    "    print(result_inverse)\n",
    "\n",
    "\n",
    "def check_solution_numpy_solve(matrix_A, vector_B):\n",
    "    result_solve = np.linalg.solve(matrix_A, vector_B)\n",
    "\n",
    "    print(\"Перевірка розв'язку за допомогою numpy.linalg.solve():\")\n",
    "    print(\"Розв'язок за допомогою solve():\")\n",
    "    print(result_solve)\n",
    "\n",
    "\n",
    "def compare_solutions(solution1, solution2, solution3):\n",
    "    if np.allclose(solution1, solution2) and np.allclose(solution1, solution3):\n",
    "        print(\"Всі розв'язки ідентичні.\")\n",
    "    else:\n",
    "        print(\"Розв'язки відрізняються.\")\n",
    "\n",
    "\n",
    "\n",
    "def task_SLE():\n",
    "    try:\n",
    "        matrix_A = np.array([\n",
    "            [0, 1, -3, 4],\n",
    "            [1, 0, -2, 3],\n",
    "            [3, 2, 0, -5],\n",
    "            [4, 3, -5, 0]\n",
    "        ], dtype=np.float64)\n",
    "\n",
    "        vector_B = np.array([-5, -4, 12, 5], dtype=np.float64)\n",
    "\n",
    "\n",
    "        solution = solve_system(matrix_A, vector_B)\n",
    "\n",
    "        print(\"Розв'язок системи:\")\n",
    "        print(solution)\n",
    "\n",
    "        check_solution(matrix_A, vector_B, solution)\n",
    "\n",
    "        check_solution_inverse(matrix_A, vector_B, solution)\n",
    "\n",
    "        check_solution_numpy_solve(matrix_A, vector_B)\n",
    "\n",
    "\n",
    "\n",
    "    except Exception as e:\n",
    "        print(f\"Помилка виконання: {str(e)}\")\n",
    "\n",
    "task_SLE()"
   ]
  },
  {
   "cell_type": "markdown",
   "id": "3b8fd6bf-f91d-4a03-9355-f495afb9566c",
   "metadata": {},
   "source": [
    "3. Обчислити значення матричного виразу\n",
    "а) з використанням універсальних функцій бібліотеки NumPy.\n",
    "b) за допомогою ітеративних конструкцій (з використанням\n",
    "циклів, спискових включень тощо).\n",
    "с) для обох випадків підрахувати час виконання скрипту та\n",
    "зробити висновок.\n",
    "Порівняти всі рішення за допомогою функції numpy.allclose()."
   ]
  },
  {
   "cell_type": "markdown",
   "id": "047c4dd6-b1cc-4952-9ba3-06986a80103e",
   "metadata": {},
   "source": [
    "\\begin{align*} (A^2 - B^2) * (A + B) \\end{align*}\n"
   ]
  },
  {
   "cell_type": "markdown",
   "id": "3b08f94d-879a-415f-9ed5-ffc26954e271",
   "metadata": {},
   "source": [
    "\\begin{equation}\n",
    "  \\mathbf{A} = \\begin{bmatrix}\n",
    "    7 & 2 & 0 \\\\\n",
    "    -7 & -2 & 1 \\\\\n",
    "    1 & 1 & 0 \\\\\n",
    "  \\end{bmatrix}\n",
    "\\end{equation}\n",
    "\n",
    "\n",
    "\n",
    "\\begin{equation}\n",
    "  \\mathbf{B} = \\begin{bmatrix}\n",
    "    0 & 2 & 3 \\\\\n",
    "    1 & 0 & -2 \\\\\n",
    "    3 & 1 & 1 \\\\\n",
    "  \\end{bmatrix}\n",
    "\\end{equation}"
   ]
  },
  {
   "cell_type": "code",
   "execution_count": 29,
   "id": "bcf5d923-ce1b-49da-b380-6369a533d9f6",
   "metadata": {},
   "outputs": [
    {
     "name": "stdout",
     "output_type": "stream",
     "text": [
      "[[ 343    0  -27]\n",
      " [-288   -8    3]\n",
      " [ -32    0   -1]]\n",
      "CPU times: total: 0 ns\n",
      "Wall time: 0 ns\n"
     ]
    }
   ],
   "source": [
    "%%time\n",
    "#Task 3.1\n",
    "import numpy as np\n",
    "def task_3_numpy():\n",
    "    A = np.array([[7, 2, 0],\n",
    "                   [-7, -2, 1],\n",
    "                   [1, 1, 0]])\n",
    "\n",
    "    B = np.array([[0, 2, 3],\n",
    "                   [1, 0, -2],\n",
    "                   [3, 1, 1]])\n",
    "\n",
    "    result = ((A*A) - (B*B)) * (A+B)\n",
    "\n",
    "    print(result)\n",
    "\n",
    "task_3_numpy()"
   ]
  },
  {
   "cell_type": "code",
   "execution_count": 28,
   "id": "7ddf4464-8b48-4c00-917c-a132eea9d1e5",
   "metadata": {},
   "outputs": [
    {
     "name": "stdout",
     "output_type": "stream",
     "text": [
      "[138, 88, 68]\n",
      "[-154, -100, -78]\n",
      "[-14, -16, -12]\n",
      "CPU times: total: 0 ns\n",
      "Wall time: 0 ns\n"
     ]
    }
   ],
   "source": [
    "%%time\n",
    "#Task 3.2\n",
    "def plus_matrix(matrix_a, matrix_b):\n",
    "    result = []\n",
    "    for i in range(len(matrix_a)):\n",
    "        row = []\n",
    "        for j in range(len(matrix_a[0])):\n",
    "            row.append(matrix_a[i][j] + matrix_b[i][j])\n",
    "        result.append(row)\n",
    "    return result\n",
    "\n",
    "def subtract_matrix(matrix_a, matrix_b):\n",
    "    result = []\n",
    "    for i in range(len(matrix_a)):\n",
    "        row = []\n",
    "        for j in range(len(matrix_a[0])):\n",
    "            row.append(matrix_a[i][j] - matrix_b[i][j])\n",
    "        result.append(row)\n",
    "    return result\n",
    "\n",
    "def multiply_matrix(matrix_a, matrix_b):\n",
    "    result = []\n",
    "    for i in range(len(matrix_a)):\n",
    "        row = []\n",
    "        for j in range(len(matrix_b[0])):\n",
    "            sum = 0\n",
    "            for k in range(len(matrix_b)):\n",
    "                sum += matrix_a[i][k] * matrix_b[k][j]\n",
    "            row.append(sum)\n",
    "        result.append(row)\n",
    "    return result\n",
    "\n",
    "A = [[7, 2, 0],\n",
    "    [-7, -2, 1],\n",
    "    [1, 1, 0]]\n",
    "\n",
    "B = [[0, 2, 3],\n",
    "    [1, 0, -2],\n",
    "    [3, 1, 1]]\n",
    "\n",
    "A2=multiply_matrix(A,A)\n",
    "B2=multiply_matrix(B,B)\n",
    "A2subB2=subtract_matrix(A2,B2)\n",
    "AplusB=plus_matrix(A,B)\n",
    "result = multiply_matrix(A2subB2,AplusB)\n",
    "\n",
    "for row in result:\n",
    "    print(row)"
   ]
  }
 ],
 "metadata": {
  "kernelspec": {
   "display_name": "Python 3 (ipykernel)",
   "language": "python",
   "name": "python3"
  },
  "language_info": {
   "codemirror_mode": {
    "name": "ipython",
    "version": 3
   },
   "file_extension": ".py",
   "mimetype": "text/x-python",
   "name": "python",
   "nbconvert_exporter": "python",
   "pygments_lexer": "ipython3",
   "version": "3.11.3"
  }
 },
 "nbformat": 4,
 "nbformat_minor": 5
}
