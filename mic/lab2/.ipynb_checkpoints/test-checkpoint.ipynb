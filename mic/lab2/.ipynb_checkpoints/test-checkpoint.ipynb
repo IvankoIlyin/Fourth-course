{
 "cells": [
  {
   "cell_type": "code",
   "execution_count": 17,
   "id": "de4ee9dd-07ae-45ce-8ea2-ab9e69f25c1a",
   "metadata": {},
   "outputs": [
    {
     "name": "stdout",
     "output_type": "stream",
     "text": [
      "Згенерована матриця:\n",
      "[[0 1 2]\n",
      " [0 0 0]\n",
      " [0 0 0]\n",
      " [0 0 0]]\n",
      "CPU times: total: 0 ns\n",
      "Wall time: 1 ms\n"
     ]
    }
   ],
   "source": [
    "%%time\n",
    "#Task 1.1\n",
    "import numpy as np\n",
    "\n",
    "def generate_matrix_numpy():\n",
    "\n",
    "    #m, n = map(int, input(\"Введіть m та n через пробіл: \").split())\n",
    "    m=3\n",
    "    n=4\n",
    "    matrix = np.zeros((n, m), dtype=int)\n",
    "\n",
    "    matrix[0, :] = np.arange(m)\n",
    "\n",
    "    print(\"Згенерована матриця:\")\n",
    "    print(matrix)\n",
    "\n",
    "generate_matrix_numpy()"
   ]
  },
  {
   "cell_type": "code",
   "execution_count": 20,
   "id": "7f2bc4d0-5719-4225-ac44-73d70c5ad9fa",
   "metadata": {},
   "outputs": [
    {
     "name": "stdout",
     "output_type": "stream",
     "text": [
      "Згенерована матриця:\n",
      "[0, 1, 2]\n",
      "[0, 0, 0]\n",
      "[0, 0, 0]\n",
      "[0, 0, 0]\n",
      "CPU times: total: 0 ns\n",
      "Wall time: 1 ms\n"
     ]
    }
   ],
   "source": [
    "%%time\n",
    "#Task 1.2\n",
    "\n",
    "def generate_matrix_iterator():\n",
    "\n",
    "    #m, n = map(int, input(\"Введіть m та n через пробіл: \").split())\n",
    "    m=3\n",
    "    n=4\n",
    "    matrix = []\n",
    "\n",
    "    matrix.append(list(range(m)))\n",
    "\n",
    "    for _ in range(1, n):\n",
    "        matrix.append([0] * m)\n",
    "\n",
    "    print(\"Згенерована матриця:\")\n",
    "    for row in matrix:\n",
    "        print(row)\n",
    "\n",
    "generate_matrix_iterator()"
   ]
  },
  {
   "cell_type": "code",
   "execution_count": 25,
   "id": "ef21de4e-067a-4313-b6d4-505a02afae82",
   "metadata": {},
   "outputs": [
    {
     "name": "stdout",
     "output_type": "stream",
     "text": [
      "Розв'язок системи:\n",
      "[ 1.  2.  1. -1.]\n",
      "Перевірка розв'язку:\n",
      "Матриця A * Розв'язок:\n",
      "[-5. -4. 12.  5.]\n",
      "Вектор B:\n",
      "[-5. -4. 12.  5.]\n",
      "Перевірка розв'язку за допомогою оберненої матриці:\n",
      "Обернена матриця A:\n",
      "[[ 0.          0.83333333  0.5        -0.33333333]\n",
      " [ 1.25        0.          1.         -0.75      ]\n",
      " [ 0.75        0.66666667  1.         -0.91666667]\n",
      " [ 0.5         0.5         0.5        -0.5       ]]\n",
      "Обернена матриця A * Вектор B:\n",
      "[ 1.  2.  1. -1.]\n",
      "Перевірка розв'язку за допомогою numpy.linalg.solve():\n",
      "Розв'язок за допомогою solve():\n",
      "[ 1.  2.  1. -1.]\n"
     ]
    }
   ],
   "source": [
    "# Task 2\n",
    "import numpy as np\n",
    "def solve_system(matrix_A, vector_B):\n",
    "    det_A = np.linalg.det(matrix_A)\n",
    "\n",
    "    solution = []\n",
    "\n",
    "    for i in range(len(vector_B)):\n",
    "        temp_matrix = np.copy(matrix_A)\n",
    "\n",
    "        temp_matrix[:, i] = vector_B.copy()\n",
    "\n",
    "        det_temp = np.linalg.det(temp_matrix)\n",
    "\n",
    "        solution.append(det_temp / det_A)\n",
    "\n",
    "    return np.array(solution)\n",
    "\n",
    "\n",
    "def check_solution(matrix_A, vector_B, solution):\n",
    "    result = np.dot(matrix_A, solution)\n",
    "\n",
    "    print(\"Перевірка розв'язку:\")\n",
    "    print(\"Матриця A * Розв'язок:\")\n",
    "    print(result)\n",
    "    print(\"Вектор B:\")\n",
    "    print(vector_B)\n",
    "\n",
    "\n",
    "def check_solution_inverse(matrix_A, vector_B, solution):\n",
    "    inverse_A = np.linalg.inv(matrix_A)\n",
    "    result_inverse = np.dot(inverse_A, vector_B)\n",
    "\n",
    "    print(\"Перевірка розв'язку за допомогою оберненої матриці:\")\n",
    "    print(\"Обернена матриця A:\")\n",
    "    print(inverse_A)\n",
    "    print(\"Обернена матриця A * Вектор B:\")\n",
    "    print(result_inverse)\n",
    "\n",
    "\n",
    "def check_solution_numpy_solve(matrix_A, vector_B):\n",
    "    result_solve = np.linalg.solve(matrix_A, vector_B)\n",
    "\n",
    "    print(\"Перевірка розв'язку за допомогою numpy.linalg.solve():\")\n",
    "    print(\"Розв'язок за допомогою solve():\")\n",
    "    print(result_solve)\n",
    "\n",
    "\n",
    "def compare_solutions(solution1, solution2, solution3):\n",
    "    if np.allclose(solution1, solution2) and np.allclose(solution1, solution3):\n",
    "        print(\"Всі розв'язки ідентичні.\")\n",
    "    else:\n",
    "        print(\"Розв'язки відрізняються.\")\n",
    "\n",
    "\n",
    "\n",
    "def task_SLE():\n",
    "    try:\n",
    "        matrix_A = np.array([\n",
    "            [0, 1, -3, 4],\n",
    "            [1, 0, -2, 3],\n",
    "            [3, 2, 0, -5],\n",
    "            [4, 3, -5, 0]\n",
    "        ], dtype=np.float64)\n",
    "\n",
    "        vector_B = np.array([-5, -4, 12, 5], dtype=np.float64)\n",
    "\n",
    "\n",
    "        solution = solve_system(matrix_A, vector_B)\n",
    "\n",
    "        print(\"Розв'язок системи:\")\n",
    "        print(solution)\n",
    "\n",
    "        check_solution(matrix_A, vector_B, solution)\n",
    "\n",
    "        check_solution_inverse(matrix_A, vector_B, solution)\n",
    "\n",
    "        check_solution_numpy_solve(matrix_A, vector_B)\n",
    "\n",
    "\n",
    "\n",
    "    except Exception as e:\n",
    "        print(f\"Помилка виконання: {str(e)}\")\n",
    "\n",
    "task_SLE()"
   ]
  },
  {
   "cell_type": "code",
   "execution_count": 23,
   "id": "2cecd1e7-e906-4c8e-9a48-0e8d4feefb4c",
   "metadata": {},
   "outputs": [
    {
     "name": "stdout",
     "output_type": "stream",
     "text": [
      "[[ 343    0  -27]\n",
      " [-288   -8    3]\n",
      " [ -32    0   -1]]\n",
      "CPU times: total: 0 ns\n",
      "Wall time: 0 ns\n"
     ]
    }
   ],
   "source": [
    "%%time\n",
    "#Task 3.1\n",
    "import numpy as np\n",
    "def task_3_numpy():\n",
    "    A = np.array([[7, 2, 0],\n",
    "                   [-7, -2, 1],\n",
    "                   [1, 1, 0]])\n",
    "\n",
    "    B = np.array([[0, 2, 3],\n",
    "                   [1, 0, -2],\n",
    "                   [3, 1, 1]])\n",
    "\n",
    "    result = (A*A - B*B) * (A+B)\n",
    "\n",
    "    print(result)\n",
    "\n",
    "task_3_numpy()"
   ]
  },
  {
   "cell_type": "code",
   "execution_count": 24,
   "id": "beab34d9-18fa-4292-8623-0fa9ea6227f3",
   "metadata": {},
   "outputs": [
    {
     "name": "stdout",
     "output_type": "stream",
     "text": [
      "[138, 88, 68]\n",
      "[-154, -100, -78]\n",
      "[-14, -16, -12]\n",
      "CPU times: total: 0 ns\n",
      "Wall time: 1 ms\n"
     ]
    }
   ],
   "source": [
    "%%time\n",
    "#Task 3.2\n",
    "def plus_matrix(matrix_a, matrix_b):\n",
    "    result = []\n",
    "    for i in range(len(matrix_a)):\n",
    "        row = []\n",
    "        for j in range(len(matrix_a[0])):\n",
    "            row.append(matrix_a[i][j] + matrix_b[i][j])\n",
    "        result.append(row)\n",
    "    return result\n",
    "\n",
    "def subtract_matrix(matrix_a, matrix_b):\n",
    "    result = []\n",
    "    for i in range(len(matrix_a)):\n",
    "        row = []\n",
    "        for j in range(len(matrix_a[0])):\n",
    "            row.append(matrix_a[i][j] - matrix_b[i][j])\n",
    "        result.append(row)\n",
    "    return result\n",
    "\n",
    "def multiply_matrix(matrix_a, matrix_b):\n",
    "    result = []\n",
    "    for i in range(len(matrix_a)):\n",
    "        row = []\n",
    "        for j in range(len(matrix_b[0])):\n",
    "            sum = 0\n",
    "            for k in range(len(matrix_b)):\n",
    "                sum += matrix_a[i][k] * matrix_b[k][j]\n",
    "            row.append(sum)\n",
    "        result.append(row)\n",
    "    return result\n",
    "\n",
    "A = [[7, 2, 0],\n",
    "    [-7, -2, 1],\n",
    "    [1, 1, 0]]\n",
    "\n",
    "B = [[0, 2, 3],\n",
    "    [1, 0, -2],\n",
    "    [3, 1, 1]]\n",
    "\n",
    "A2=multiply_matrix(A,A)\n",
    "B2=multiply_matrix(B,B)\n",
    "A2subB2=subtract_matrix(A2,B2)\n",
    "AplusB=plus_matrix(A,B)\n",
    "result = multiply_matrix(A2subB2,AplusB)\n",
    "\n",
    "for row in result:\n",
    "    print(row)"
   ]
  },
  {
   "cell_type": "markdown",
   "id": "d71bddcc-8249-46c3-be69-9e7c184565b4",
   "metadata": {},
   "source": [
    "\\begin{cases}\n",
    "x_2 - 3x_3 + 4x_4 &= -5 \\\\\n",
    "x_1 - 2x_3 + 3x_4 &= -4 \\\\\n",
    "3x_1 + 2x_2 - 5x_4 &= 12 \\\\\n",
    "4x_1 + 3x_2 - 5x_3 &= 5 \\\\\n",
    "\\end{cases}"
   ]
  },
  {
   "cell_type": "markdown",
   "id": "f71cf4a8-2038-464f-9820-fb3b638bad4a",
   "metadata": {},
   "source": [
    "\\begin{align*} (A^2 - B^2) * (A + B) \\end{align*}\n"
   ]
  },
  {
   "cell_type": "markdown",
   "id": "452b8dc3-527c-4b02-907a-fbdf895dca0b",
   "metadata": {},
   "source": [
    "\\begin{equation}\n",
    "  \\mathbf{A} = \\begin{bmatrix}\n",
    "    7 & 2 & 0 \\\\\n",
    "    -7 & -2 & 1 \\\\\n",
    "    1 & 1 & 0 \\\\\n",
    "  \\end{bmatrix}\n",
    "\\end{equation}\n",
    "\n",
    "\n",
    "\n",
    "\\begin{equation}\n",
    "  \\mathbf{B} = \\begin{bmatrix}\n",
    "    0 & 2 & 3 \\\\\n",
    "    1 & 0 & -2 \\\\\n",
    "    3 & 1 & 1 \\\\\n",
    "  \\end{bmatrix}\n",
    "\\end{equation}"
   ]
  }
 ],
 "metadata": {
  "kernelspec": {
   "display_name": "Python 3 (ipykernel)",
   "language": "python",
   "name": "python3"
  },
  "language_info": {
   "codemirror_mode": {
    "name": "ipython",
    "version": 3
   },
   "file_extension": ".py",
   "mimetype": "text/x-python",
   "name": "python",
   "nbconvert_exporter": "python",
   "pygments_lexer": "ipython3",
   "version": "3.11.3"
  }
 },
 "nbformat": 4,
 "nbformat_minor": 5
}
